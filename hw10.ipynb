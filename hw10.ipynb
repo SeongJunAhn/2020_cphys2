{
 "cells": [
  {
   "cell_type": "code",
   "execution_count": 1,
   "metadata": {},
   "outputs": [],
   "source": [
    "import numpy as np\n",
    "from tensorflow import keras\n",
    "from keras import models \n",
    "from keras import layers\n",
    "import matplotlib.pyplot as plt\n",
    "import tensorflow as tf\n",
    "from keras.datasets import imdb"
   ]
  },
  {
   "cell_type": "code",
   "execution_count": 2,
   "metadata": {},
   "outputs": [],
   "source": [
    "from keras.preprocessing import sequence\n",
    "\n",
    "max_words=10000 \n",
    "(X_train, y_train), (X_test, y_test) = imdb.load_data(num_words=max_words)\n",
    "\n",
    "maxlen = 100 # sequence length\n",
    "X_train = sequence.pad_sequences(X_train, maxlen=maxlen)\n",
    "X_test = sequence.pad_sequences(X_test, maxlen=maxlen)"
   ]
  },
  {
   "cell_type": "code",
   "execution_count": 3,
   "metadata": {},
   "outputs": [],
   "source": [
    "rnn=models.Sequential()\n",
    "rnn.add(layers.Embedding(max_words,16))\n",
    "rnn.add(layers.SimpleRNN(16,return_sequences='True'))\n",
    "rnn.add(layers.Dropout(0.2))\n",
    "rnn.add(layers.SimpleRNN(16))\n",
    "rnn.add(layers.Dropout(0.2))\n",
    "rnn.add(layers.Dense(1,activation='sigmoid'))\n",
    "rnn.compile(optimizer='nadam',loss='binary_crossentropy',metrics=['acc'])"
   ]
  },
  {
   "cell_type": "code",
   "execution_count": 4,
   "metadata": {
    "scrolled": true
   },
   "outputs": [
    {
     "name": "stdout",
     "output_type": "stream",
     "text": [
      "Model: \"sequential\"\n",
      "_________________________________________________________________\n",
      "Layer (type)                 Output Shape              Param #   \n",
      "=================================================================\n",
      "embedding (Embedding)        (None, None, 16)          160000    \n",
      "_________________________________________________________________\n",
      "simple_rnn (SimpleRNN)       (None, None, 16)          528       \n",
      "_________________________________________________________________\n",
      "dropout (Dropout)            (None, None, 16)          0         \n",
      "_________________________________________________________________\n",
      "simple_rnn_1 (SimpleRNN)     (None, 16)                528       \n",
      "_________________________________________________________________\n",
      "dropout_1 (Dropout)          (None, 16)                0         \n",
      "_________________________________________________________________\n",
      "dense (Dense)                (None, 1)                 17        \n",
      "=================================================================\n",
      "Total params: 161,073\n",
      "Trainable params: 161,073\n",
      "Non-trainable params: 0\n",
      "_________________________________________________________________\n"
     ]
    }
   ],
   "source": [
    "rnn.summary()"
   ]
  },
  {
   "cell_type": "code",
   "execution_count": 5,
   "metadata": {},
   "outputs": [
    {
     "name": "stdout",
     "output_type": "stream",
     "text": [
      "Epoch 1/10\n",
      "157/157 [==============================] - 4s 27ms/step - loss: 0.5644 - acc: 0.6852 - val_loss: 0.4422 - val_acc: 0.8024\n",
      "Epoch 2/10\n",
      "157/157 [==============================] - 4s 25ms/step - loss: 0.3486 - acc: 0.8580 - val_loss: 0.3850 - val_acc: 0.8334\n",
      "Epoch 3/10\n",
      "157/157 [==============================] - 4s 26ms/step - loss: 0.2663 - acc: 0.8974 - val_loss: 0.3915 - val_acc: 0.8240\n",
      "Epoch 4/10\n",
      "157/157 [==============================] - 4s 25ms/step - loss: 0.2107 - acc: 0.9233 - val_loss: 0.4189 - val_acc: 0.8286\n",
      "Epoch 5/10\n",
      "157/157 [==============================] - 4s 27ms/step - loss: 0.1651 - acc: 0.9426 - val_loss: 0.4207 - val_acc: 0.8290\n",
      "Epoch 6/10\n",
      "157/157 [==============================] - 4s 26ms/step - loss: 0.1312 - acc: 0.9566 - val_loss: 0.4652 - val_acc: 0.8308\n",
      "Epoch 7/10\n",
      "157/157 [==============================] - 4s 25ms/step - loss: 0.1002 - acc: 0.9688 - val_loss: 0.5283 - val_acc: 0.8308\n",
      "Epoch 8/10\n",
      "157/157 [==============================] - 4s 26ms/step - loss: 0.0806 - acc: 0.9755 - val_loss: 0.6858 - val_acc: 0.8236\n",
      "Epoch 9/10\n",
      "157/157 [==============================] - 4s 26ms/step - loss: 0.0654 - acc: 0.9807 - val_loss: 0.6199 - val_acc: 0.8152\n",
      "Epoch 10/10\n",
      "157/157 [==============================] - 4s 25ms/step - loss: 0.0562 - acc: 0.9830 - val_loss: 0.6497 - val_acc: 0.8250\n"
     ]
    }
   ],
   "source": [
    "history=rnn.fit(X_train,y_train,epochs=10,batch_size=128,validation_split=0.2)"
   ]
  },
  {
   "cell_type": "code",
   "execution_count": 7,
   "metadata": {},
   "outputs": [
    {
     "data": {
      "text/plain": [
       "<matplotlib.legend.Legend at 0x15602f54388>"
      ]
     },
     "execution_count": 7,
     "metadata": {},
     "output_type": "execute_result"
    },
    {
     "data": {
      "image/png": "[encoded data removed]",
      "text/plain": [
       "<Figure size 1080x360 with 2 Axes>"
      ]
     },
     "metadata": {
      "needs_background": "light"
     },
     "output_type": "display_data"
    }
   ],
   "source": [
    "data_dict = history.history\n",
    "loss = history.history['loss']\n",
    "data_loss = data_dict['val_loss']\n",
    "acc = data_dict['acc']\n",
    "val_acc = history.history['val_acc']\n",
    "\n",
    "plt.figure(figsize=(15,5))\n",
    "plt.subplot(121)\n",
    "plt.plot(loss,'b-',label='E')\n",
    "plt.plot(data_loss,'r-',label='$E_v$')\n",
    "plt.title('validation')\n",
    "plt.legend()\n",
    "\n",
    "plt.subplot(122)\n",
    "plt.plot(acc,'b-',label='Acc')\n",
    "plt.plot(val_acc,'r-',label='$Acc_v$')\n",
    "plt.title('accuracy')\n",
    "plt.legend()"
   ]
  },
  {
   "cell_type": "code",
   "execution_count": 8,
   "metadata": {},
   "outputs": [
    {
     "name": "stdout",
     "output_type": "stream",
     "text": [
      "782/782 [==============================] - 4s 5ms/step - loss: 0.6939 - acc: 0.8213\n"
     ]
    }
   ],
   "source": [
    "test_loss, test_acc = rnn.evaluate(X_test,y_test)"
   ]
  },
  {
   "cell_type": "markdown",
   "metadata": {},
   "source": [
    "IMDB셋트를 RNN 학습한 결과 정확도는 82.1%가 나왔다. validation과 accuracy 그래프를 보면 만족스럽지 못한 결과이다. IMDB가 사람의 감정에 따른 영화 리뷰 데이터 셋이기 때문에 개인에 따른 언어의 온도차를 완벽히 분석하지 못했거나 리뷰라는 캐주얼하고 긴 줄글 특성 상 time step이 길어질수록 앞의 정보가 뒤의 정보와 관련성이 다소 떨어질 수 있기 때문에 발생한 분석 결과라 생각된다."
   ]
  },
  {
   "cell_type": "code",
   "execution_count": null,
   "metadata": {},
   "outputs": [],
   "source": []
  }
 ],
 "metadata": {
  "kernelspec": {
   "display_name": "Python 3",
   "language": "python",
   "name": "python3"
  },
  "language_info": {
   "codemirror_mode": {
    "name": "ipython",
    "version": 3
   },
   "file_extension": ".py",
   "mimetype": "text/x-python",
   "name": "python",
   "nbconvert_exporter": "python",
   "pygments_lexer": "ipython3",
   "version": "3.7.6"
  }
 },
 "nbformat": 4,
 "nbformat_minor": 4
}
