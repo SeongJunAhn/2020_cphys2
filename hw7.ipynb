{
 "cells": [
  {
   "cell_type": "code",
   "execution_count": 38,
   "metadata": {},
   "outputs": [],
   "source": [
    "from keras.datasets import mnist\n",
    "from tensorflow import keras\n",
    "from keras import models \n",
    "from keras import layers\n",
    "import numpy as np\n",
    "import matplotlib.pyplot as plt\n",
    "from keras.utils import to_categorical\n",
    "\n",
    "(X, y), (X_test, y_test) = mnist.load_data()"
   ]
  },
  {
   "cell_type": "code",
   "execution_count": 46,
   "metadata": {},
   "outputs": [
    {
     "data": {
      "text/plain": [
       "((60000, 784),\n",
       " (60000, 10),\n",
       " (10000, 784),\n",
       " (10000, 10),\n",
       " (60000, 28, 28),\n",
       " (60000,))"
      ]
     },
     "execution_count": 46,
     "metadata": {},
     "output_type": "execute_result"
    }
   ],
   "source": [
    "X_train = X.reshape((60000, 28*28))\n",
    "X_train = X_train/255\n",
    "\n",
    "X_test = X_test.reshape((10000, 28*28))\n",
    "X_test = X_test/255\n",
    "\n",
    "y_train=to_categorical(y)\n",
    "y_test=to_categorical(y_test)\n",
    "\n",
    "X_train.shape,y_train.shape,X_test.shape,y_test.shape, X.shape, y.shape"
   ]
  },
  {
   "cell_type": "markdown",
   "metadata": {},
   "source": [
    "# softmax"
   ]
  },
  {
   "cell_type": "code",
   "execution_count": 210,
   "metadata": {},
   "outputs": [],
   "source": [
    "net = models.Sequential()\n",
    "net.add(layers.Dense(10, activation='softmax', input_shape=(28*28,)))\n",
    "net.compile(optimizer='sgd',loss='categorical_crossentropy',metrics=['accuracy'])"
   ]
  },
  {
   "cell_type": "code",
   "execution_count": 146,
   "metadata": {
    "collapsed": true
   },
   "outputs": [
    {
     "name": "stdout",
     "output_type": "stream",
     "text": [
      "Epoch 1/20\n",
      "1875/1875 [==============================] - 2s 939us/step - loss: 0.7727 - accuracy: 0.8185\n",
      "Epoch 2/20\n",
      "1875/1875 [==============================] - 2s 914us/step - loss: 0.4557 - accuracy: 0.8806\n",
      "Epoch 3/20\n",
      "1875/1875 [==============================] - 2s 950us/step - loss: 0.4032 - accuracy: 0.8908\n",
      "Epoch 4/20\n",
      "1875/1875 [==============================] - 2s 906us/step - loss: 0.3766 - accuracy: 0.8971\n",
      "Epoch 5/20\n",
      "1875/1875 [==============================] - 2s 870us/step - loss: 0.3600 - accuracy: 0.9003\n",
      "Epoch 6/20\n",
      "1875/1875 [==============================] - 2s 933us/step - loss: 0.3481 - accuracy: 0.9036\n",
      "Epoch 7/20\n",
      "1875/1875 [==============================] - 2s 1ms/step - loss: 0.3393 - accuracy: 0.9057\n",
      "Epoch 8/20\n",
      "1875/1875 [==============================] - 2s 804us/step - loss: 0.3320 - accuracy: 0.9075\n",
      "Epoch 9/20\n",
      "1875/1875 [==============================] - 2s 844us/step - loss: 0.3263 - accuracy: 0.9088\n",
      "Epoch 10/20\n",
      "1875/1875 [==============================] - 1s 723us/step - loss: 0.3214 - accuracy: 0.9105\n",
      "Epoch 11/20\n",
      "1875/1875 [==============================] - 1s 700us/step - loss: 0.3171 - accuracy: 0.9118\n",
      "Epoch 12/20\n",
      "1875/1875 [==============================] - 1s 737us/step - loss: 0.3135 - accuracy: 0.9130\n",
      "Epoch 13/20\n",
      "1875/1875 [==============================] - 1s 773us/step - loss: 0.3102 - accuracy: 0.9139\n",
      "Epoch 14/20\n",
      "1875/1875 [==============================] - 2s 812us/step - loss: 0.3074 - accuracy: 0.9147\n",
      "Epoch 15/20\n",
      "1875/1875 [==============================] - 2s 821us/step - loss: 0.3048 - accuracy: 0.9153\n",
      "Epoch 16/20\n",
      "1875/1875 [==============================] - 2s 963us/step - loss: 0.3024 - accuracy: 0.9161\n",
      "Epoch 17/20\n",
      "1875/1875 [==============================] - 1s 693us/step - loss: 0.3003 - accuracy: 0.9164\n",
      "Epoch 18/20\n",
      "1875/1875 [==============================] - 1s 687us/step - loss: 0.2985 - accuracy: 0.9172\n",
      "Epoch 19/20\n",
      "1875/1875 [==============================] - 1s 684us/step - loss: 0.2966 - accuracy: 0.9174\n",
      "Epoch 20/20\n",
      "1875/1875 [==============================] - 1s 742us/step - loss: 0.2950 - accuracy: 0.9184\n"
     ]
    },
    {
     "data": {
      "text/plain": [
       "<tensorflow.python.keras.callbacks.History at 0x1cc38f8a488>"
      ]
     },
     "execution_count": 146,
     "metadata": {},
     "output_type": "execute_result"
    }
   ],
   "source": [
    "net.fit(X_train, y_train, epochs=20)"
   ]
  },
  {
   "cell_type": "code",
   "execution_count": 148,
   "metadata": {},
   "outputs": [
    {
     "name": "stdout",
     "output_type": "stream",
     "text": [
      "313/313 [==============================] - 0s 1ms/step - loss: 0.2877 - accuracy: 0.9200\n"
     ]
    },
    {
     "data": {
      "text/plain": [
       "[0.287660151720047, 0.9200000166893005]"
      ]
     },
     "execution_count": 148,
     "metadata": {},
     "output_type": "execute_result"
    }
   ],
   "source": [
    "net.evaluate(X_test,y_test)"
   ]
  },
  {
   "cell_type": "markdown",
   "metadata": {},
   "source": [
    "softmax regression 결과 정확도는 92%이다"
   ]
  },
  {
   "cell_type": "markdown",
   "metadata": {},
   "source": [
    "# SVM"
   ]
  },
  {
   "cell_type": "code",
   "execution_count": 6,
   "metadata": {},
   "outputs": [],
   "source": [
    "from sklearn import svm"
   ]
  },
  {
   "cell_type": "code",
   "execution_count": 7,
   "metadata": {},
   "outputs": [],
   "source": [
    "clf=svm.SVC(C=200,kernel='rbf',gamma=0.01,cache_size=8000,probability=False)"
   ]
  },
  {
   "cell_type": "code",
   "execution_count": 8,
   "metadata": {
    "scrolled": false
   },
   "outputs": [
    {
     "data": {
      "text/plain": [
       "SVC(C=200, break_ties=False, cache_size=8000, class_weight=None, coef0=0.0,\n",
       "    decision_function_shape='ovr', degree=3, gamma=0.01, kernel='rbf',\n",
       "    max_iter=-1, probability=False, random_state=None, shrinking=True,\n",
       "    tol=0.001, verbose=False)"
      ]
     },
     "execution_count": 8,
     "metadata": {},
     "output_type": "execute_result"
    }
   ],
   "source": [
    "clf.fit(X_train,y)"
   ]
  },
  {
   "cell_type": "markdown",
   "metadata": {},
   "source": [
    "데이터 shape가 달라 연산이 안돼서 다른 방법으로 접근"
   ]
  },
  {
   "cell_type": "code",
   "execution_count": 24,
   "metadata": {},
   "outputs": [
    {
     "name": "stdout",
     "output_type": "stream",
     "text": [
      "['data', 'target', 'frame', 'feature_names', 'target_names', 'DESCR', 'details', 'categories', 'url']\n"
     ]
    }
   ],
   "source": [
    "from sklearn.datasets import fetch_openml\n",
    "\n",
    "mnist=fetch_openml('mnist_784',version=1)\n",
    "print(list(mnist))  \n",
    "svmX,svmy=mnist['data'],mnist['target']"
   ]
  },
  {
   "cell_type": "code",
   "execution_count": 25,
   "metadata": {},
   "outputs": [],
   "source": [
    "import matplotlib.pyplot as plt\n",
    "from sklearn.model_selection import train_test_split\n",
    "%matplotlib inline\n",
    "\n",
    "svmX_train,svmX_test,svmy_train,svmy_test=train_test_split(svmX,svmy,stratify=svmy,test_size=0.3,random_state=42)"
   ]
  },
  {
   "cell_type": "code",
   "execution_count": 27,
   "metadata": {},
   "outputs": [
    {
     "name": "stderr",
     "output_type": "stream",
     "text": [
      "C:\\Users\\yunju\\anaconda3\\lib\\site-packages\\sklearn\\svm\\_base.py:947: ConvergenceWarning: Liblinear failed to converge, increase the number of iterations.\n",
      "  \"the number of iterations.\", ConvergenceWarning)\n"
     ]
    },
    {
     "data": {
      "text/plain": [
       "LinearSVC(C=1.0, class_weight=None, dual=True, fit_intercept=True,\n",
       "          intercept_scaling=1, loss='squared_hinge', max_iter=1000,\n",
       "          multi_class='ovr', penalty='l2', random_state=42, tol=0.0001,\n",
       "          verbose=0)"
      ]
     },
     "execution_count": 27,
     "metadata": {},
     "output_type": "execute_result"
    }
   ],
   "source": [
    "from sklearn.svm import LinearSVC\n",
    "\n",
    "svm=LinearSVC(random_state=42)\n",
    "svm.fit(svmX_train,svmy_train)"
   ]
  },
  {
   "cell_type": "code",
   "execution_count": 29,
   "metadata": {},
   "outputs": [
    {
     "data": {
      "text/plain": [
       "0.8882040816326531"
      ]
     },
     "execution_count": 29,
     "metadata": {},
     "output_type": "execute_result"
    }
   ],
   "source": [
    "from sklearn.metrics import accuracy_score\n",
    "y_pred=svm.predict(svmX_train)\n",
    "accuracy_score(svmy_train,y_pred)"
   ]
  },
  {
   "cell_type": "markdown",
   "metadata": {},
   "source": [
    "svm의 정확도는 88%이다"
   ]
  },
  {
   "cell_type": "markdown",
   "metadata": {},
   "source": [
    "#  randomforest"
   ]
  },
  {
   "cell_type": "code",
   "execution_count": 3,
   "metadata": {},
   "outputs": [],
   "source": [
    "from sklearn.ensemble import RandomForestClassifier\n",
    "from sklearn.model_selection import cross_val_score"
   ]
  },
  {
   "cell_type": "code",
   "execution_count": 179,
   "metadata": {},
   "outputs": [
    {
     "data": {
      "text/plain": [
       "RandomForestClassifier(bootstrap=True, ccp_alpha=0.0, class_weight=None,\n",
       "                       criterion='gini', max_depth=None, max_features='auto',\n",
       "                       max_leaf_nodes=None, max_samples=None,\n",
       "                       min_impurity_decrease=0.0, min_impurity_split=None,\n",
       "                       min_samples_leaf=1, min_samples_split=2,\n",
       "                       min_weight_fraction_leaf=0.0, n_estimators=100,\n",
       "                       n_jobs=None, oob_score=False, random_state=None,\n",
       "                       verbose=0, warm_start=False)"
      ]
     },
     "execution_count": 179,
     "metadata": {},
     "output_type": "execute_result"
    }
   ],
   "source": [
    "rf=RandomForestClassifier()\n",
    "rf.fit(X_train,y_train)"
   ]
  },
  {
   "cell_type": "code",
   "execution_count": 181,
   "metadata": {},
   "outputs": [
    {
     "data": {
      "text/plain": [
       "array([0.88385, 0.87965, 0.88585])"
      ]
     },
     "execution_count": 181,
     "metadata": {},
     "output_type": "execute_result"
    }
   ],
   "source": [
    "cross_val_score(rf,X_train,y_train,cv=3,scoring=\"accuracy\")"
   ]
  },
  {
   "cell_type": "code",
   "execution_count": 182,
   "metadata": {},
   "outputs": [
    {
     "data": {
      "text/plain": [
       "0.8831166666666667"
      ]
     },
     "execution_count": 182,
     "metadata": {},
     "output_type": "execute_result"
    }
   ],
   "source": [
    "a=[0.88385, 0.87965, 0.88585]\n",
    "np.mean(a)"
   ]
  },
  {
   "cell_type": "markdown",
   "metadata": {},
   "source": [
    "randomforest는 정확도 88% 정도이다"
   ]
  },
  {
   "cell_type": "markdown",
   "metadata": {},
   "source": [
    "softmax는 92%, SVM과 randomforest는 88%의 정확도를 가진다.\n",
    "softmax는 50번 연산을 해도 눈에 띄는 정확도 개선이 보이지 않아서 따로 20번만 실행했다.\n",
    "randomforest는 softmax에서 epochs를 늘리는 것 처럼 tree를 늘리면 조금씩 정확도가 상승할 것 같지만 overfitting을 구분할 수 없어서 default값으로 실행했다.\n",
    "SVM은 gamma값을 조정하면 정확도를 더 올릴 수 있는 것 같은데, 어느 지점이 overfitting인지도 모르고, 어느정도가 적정값인지 몰라 default값으로 실행하였다. softmax, randomforest에서 썼던 데이터의 shape로는 계산할 수 없어 새로운 데이터 shape로 SVM을 했다."
   ]
  }
 ],
 "metadata": {
  "kernelspec": {
   "display_name": "Python 3",
   "language": "python",
   "name": "python3"
  },
  "language_info": {
   "codemirror_mode": {
    "name": "ipython",
    "version": 3
   },
   "file_extension": ".py",
   "mimetype": "text/x-python",
   "name": "python",
   "nbconvert_exporter": "python",
   "pygments_lexer": "ipython3",
   "version": "3.7.6"
  }
 },
 "nbformat": 4,
 "nbformat_minor": 4
}
